{
  "cells": [
    {
      "cell_type": "markdown",
      "metadata": {
        "id": "view-in-github",
        "colab_type": "text"
      },
      "source": [
        "<a href=\"https://colab.research.google.com/github/Archarlie2000/CS450-Team/blob/main/Module_5_V2.ipynb\" target=\"_parent\"><img src=\"https://colab.research.google.com/assets/colab-badge.svg\" alt=\"Open In Colab\"/></a>"
      ]
    },
    {
      "cell_type": "markdown",
      "metadata": {
        "id": "-gzlcQVaNlkx"
      },
      "source": [
        "# Getting things Read"
      ]
    },
    {
      "cell_type": "code",
      "execution_count": null,
      "metadata": {
        "id": "Pn62IkSc5_b_"
      },
      "outputs": [],
      "source": []
    },
    {
      "cell_type": "code",
      "execution_count": 4,
      "metadata": {
        "colab": {
          "base_uri": "https://localhost:8080/"
        },
        "id": "mA0HPVmIBT4C",
        "outputId": "4d041e0d-fb2b-487c-caee-82dbbe51f3aa"
      },
      "outputs": [
        {
          "output_type": "stream",
          "name": "stdout",
          "text": [
            "Downloading files...\n",
            "Unzipping files...\n",
            "Merging training data...\n",
            "Cleaning up...\n",
            "Data ready.\n",
            "Mounted at /content/drive\n"
          ]
        }
      ],
      "source": [
        "# Load data\n",
        "!echo \"Downloading files...\"\n",
        "!wget -q https://github.com/byui-cse/cse450-course/raw/master/data/roadsigns/training1.zip\n",
        "!wget -q https://github.com/byui-cse/cse450-course/raw/master/data/roadsigns/training2.zip\n",
        "!wget -q https://github.com/byui-cse/cse450-course/raw/master/data/roadsigns/test.zip\n",
        "!wget -q https://github.com/byui-cse/cse450-course/raw/master/data/roadsigns/test_partial.zip\n",
        "!wget -q https://github.com/byui-cse/cse450-course/raw/master/data/roadsigns/test_classes_partial.csv\n",
        "\n",
        "!echo \"Unzipping files...\"\n",
        "!unzip -q /content/training1.zip\n",
        "!unzip -q /content/training2.zip\n",
        "!unzip -q /content/test.zip\n",
        "!unzip -q /content/test_partial.zip\n",
        "\n",
        "# Combine the two traning directories\n",
        "!echo \"Merging training data...\"\n",
        "!mkdir /content/training\n",
        "!mv /content/training1/* /content/training\n",
        "!mv /content/training2/* /content/training\n",
        "\n",
        "# Cleanup\n",
        "!echo \"Cleaning up...\"\n",
        "!rmdir /content/training1\n",
        "!rmdir /content/training2\n",
        "!rm training1.zip\n",
        "!rm training2.zip\n",
        "!rm test.zip\n",
        "!rm test_partial.zip\n",
        "\n",
        "!echo \"Data ready.\"\n",
        "\n",
        "# Import libraries\n",
        "import pandas as pd\n",
        "import tensorflow as tf\n",
        "from tensorflow import keras\n",
        "from keras.preprocessing.image import ImageDataGenerator\n",
        "import matplotlib.pyplot as plt\n",
        "import numpy as np\n",
        "from tensorflow.keras import models, layers \n",
        "from tensorflow.keras.layers import Dense, BatchNormalization\n",
        "from sklearn.metrics import accuracy_score\n",
        "\n",
        "\n",
        "\n",
        "# Connect to drive\n",
        "from google.colab import drive\n",
        "drive.mount('/content/drive')"
      ]
    },
    {
      "cell_type": "code",
      "execution_count": null,
      "metadata": {
        "colab": {
          "base_uri": "https://localhost:8080/",
          "height": 35
        },
        "id": "YwCMoKm3cogM",
        "outputId": "bec01fcb-ac92-4778-ffc2-b00aa6968df5"
      },
      "outputs": [
        {
          "output_type": "execute_result",
          "data": {
            "text/plain": [
              "'/device:GPU:0'"
            ],
            "application/vnd.google.colaboratory.intrinsic+json": {
              "type": "string"
            }
          },
          "metadata": {},
          "execution_count": 2
        }
      ],
      "source": [
        "import tensorflow as tf\n",
        "tf.test.gpu_device_name()"
      ]
    },
    {
      "cell_type": "code",
      "execution_count": 5,
      "metadata": {
        "colab": {
          "base_uri": "https://localhost:8080/"
        },
        "id": "rF7USssdNuDh",
        "outputId": "9727da2e-0335-474e-900f-f9862d19bbd8"
      },
      "outputs": [
        {
          "output_type": "stream",
          "name": "stdout",
          "text": [
            "Found 31368 images belonging to 43 classes.\n",
            "Found 7841 images belonging to 43 classes.\n"
          ]
        }
      ],
      "source": [
        "training_dir = '/content/training/'\n",
        "image_size = (100, 100)\n",
        "\n",
        "train_datagen = ImageDataGenerator(\n",
        "        rescale=1./255,\n",
        "        validation_split=.2\n",
        "        )\n",
        "validation_datagen = ImageDataGenerator(\n",
        "        rescale=1./255,\n",
        "        validation_split=.2\n",
        "        )\n",
        "\n",
        "train_generator = train_datagen.flow_from_directory(\n",
        "        training_dir,\n",
        "        target_size = image_size,\n",
        "        subset=\"training\",\n",
        "        batch_size=32,\n",
        "        class_mode='sparse',\n",
        "        seed=42,shuffle=True)\n",
        "\n",
        "validation_generator = validation_datagen.flow_from_directory(\n",
        "        training_dir,\n",
        "        target_size=image_size,\n",
        "        batch_size=32,\n",
        "        class_mode='sparse',\n",
        "        subset=\"validation\",\n",
        "        seed=42)\n",
        "\n"
      ]
    },
    {
      "cell_type": "code",
      "execution_count": 6,
      "metadata": {
        "colab": {
          "base_uri": "https://localhost:8080/"
        },
        "id": "RwMdzZ0bOSTF",
        "outputId": "125a1528-bc3b-4230-9177-812afff99b61"
      },
      "outputs": [
        {
          "output_type": "stream",
          "name": "stdout",
          "text": [
            "Found 201 images belonging to 1 classes.\n"
          ]
        }
      ],
      "source": [
        "true = pd.read_csv('test_classes_partial.csv')\n",
        "\n",
        "from tensorflow.keras.preprocessing import image_dataset_from_directory\n",
        "test_dir = '/content/'\n",
        "\n",
        "test_datagen = ImageDataGenerator(rescale=1./255)\n",
        "test_generator = test_datagen.flow_from_directory(\n",
        "        test_dir,\n",
        "        classes=['test_partial'],\n",
        "        target_size=image_size,\n",
        "        class_mode='sparse',\n",
        "        shuffle=False)\n"
      ]
    },
    {
      "cell_type": "markdown",
      "metadata": {
        "id": "a55_3l-AOBA6"
      },
      "source": [
        "# Model\n"
      ]
    },
    {
      "cell_type": "code",
      "source": [
        "from keras.callbacks import ModelCheckpoint\n",
        "filepath = 'Vanila.epoch{epoch:02d}-loss{val_loss:.2f}.hdf5'\n",
        "checkpoint = ModelCheckpoint(filepath = filepath, \n",
        "                             monitor= \"val_loss\",\n",
        "                             verbose = 1, \n",
        "                             save_best_only = True,\n",
        "                             mode = \"min\")\n",
        "\n",
        "\n"
      ],
      "metadata": {
        "id": "u25aVNe_hHVn"
      },
      "execution_count": null,
      "outputs": []
    },
    {
      "cell_type": "code",
      "execution_count": null,
      "metadata": {
        "colab": {
          "base_uri": "https://localhost:8080/"
        },
        "id": "YjK8oMGyfd8b",
        "outputId": "7740a78f-ab5d-4940-a50e-a3d9cc1481f5"
      },
      "outputs": [
        {
          "output_type": "stream",
          "name": "stdout",
          "text": [
            "Epoch 1/20\n",
            "981/981 [==============================] - ETA: 0s - loss: 2.6832 - accuracy: 0.2879\n",
            "Epoch 1: val_loss improved from inf to 102.69926, saving model to Vanila.epoch01-loss102.70.hdf5\n",
            "981/981 [==============================] - 87s 81ms/step - loss: 2.6832 - accuracy: 0.2879 - val_loss: 102.6993 - val_accuracy: 0.1829\n",
            "Epoch 2/20\n",
            "981/981 [==============================] - ETA: 0s - loss: 1.4076 - accuracy: 0.5757\n",
            "Epoch 2: val_loss improved from 102.69926 to 1.38868, saving model to Vanila.epoch02-loss1.39.hdf5\n",
            "981/981 [==============================] - 77s 79ms/step - loss: 1.4076 - accuracy: 0.5757 - val_loss: 1.3887 - val_accuracy: 0.6966\n",
            "Epoch 3/20\n",
            "981/981 [==============================] - ETA: 0s - loss: 0.3992 - accuracy: 0.8785\n",
            "Epoch 3: val_loss improved from 1.38868 to 0.48313, saving model to Vanila.epoch03-loss0.48.hdf5\n",
            "981/981 [==============================] - 79s 80ms/step - loss: 0.3992 - accuracy: 0.8785 - val_loss: 0.4831 - val_accuracy: 0.8477\n",
            "Epoch 4/20\n",
            "981/981 [==============================] - ETA: 0s - loss: 0.2188 - accuracy: 0.9347\n",
            "Epoch 4: val_loss did not improve from 0.48313\n",
            "981/981 [==============================] - 77s 78ms/step - loss: 0.2188 - accuracy: 0.9347 - val_loss: 1.4733 - val_accuracy: 0.6956\n",
            "Epoch 5/20\n",
            "981/981 [==============================] - ETA: 0s - loss: 0.1331 - accuracy: 0.9602\n",
            "Epoch 5: val_loss improved from 0.48313 to 0.34596, saving model to Vanila.epoch05-loss0.35.hdf5\n",
            "981/981 [==============================] - 78s 79ms/step - loss: 0.1331 - accuracy: 0.9602 - val_loss: 0.3460 - val_accuracy: 0.8980\n",
            "Epoch 6/20\n",
            "981/981 [==============================] - ETA: 0s - loss: 0.1797 - accuracy: 0.9532\n",
            "Epoch 6: val_loss did not improve from 0.34596\n",
            "981/981 [==============================] - 77s 79ms/step - loss: 0.1797 - accuracy: 0.9532 - val_loss: 0.3832 - val_accuracy: 0.9152\n",
            "Epoch 7/20\n",
            "981/981 [==============================] - ETA: 0s - loss: 0.0861 - accuracy: 0.9763\n",
            "Epoch 7: val_loss improved from 0.34596 to 0.19480, saving model to Vanila.epoch07-loss0.19.hdf5\n",
            "981/981 [==============================] - 78s 80ms/step - loss: 0.0861 - accuracy: 0.9763 - val_loss: 0.1948 - val_accuracy: 0.9415\n",
            "Epoch 8/20\n",
            "981/981 [==============================] - ETA: 0s - loss: 0.0625 - accuracy: 0.9817\n",
            "Epoch 8: val_loss improved from 0.19480 to 0.19132, saving model to Vanila.epoch08-loss0.19.hdf5\n",
            "981/981 [==============================] - 77s 79ms/step - loss: 0.0625 - accuracy: 0.9817 - val_loss: 0.1913 - val_accuracy: 0.9462\n",
            "Epoch 9/20\n",
            "981/981 [==============================] - ETA: 0s - loss: 0.0843 - accuracy: 0.9780\n",
            "Epoch 9: val_loss improved from 0.19132 to 0.14026, saving model to Vanila.epoch09-loss0.14.hdf5\n",
            "981/981 [==============================] - 77s 79ms/step - loss: 0.0843 - accuracy: 0.9780 - val_loss: 0.1403 - val_accuracy: 0.9594\n",
            "Epoch 10/20\n",
            "981/981 [==============================] - ETA: 0s - loss: 0.0540 - accuracy: 0.9847\n",
            "Epoch 10: val_loss did not improve from 0.14026\n",
            "981/981 [==============================] - 77s 78ms/step - loss: 0.0540 - accuracy: 0.9847 - val_loss: 0.1677 - val_accuracy: 0.9517\n",
            "Epoch 11/20\n",
            "981/981 [==============================] - ETA: 0s - loss: 0.0389 - accuracy: 0.9897\n",
            "Epoch 11: val_loss did not improve from 0.14026\n",
            "981/981 [==============================] - 76s 78ms/step - loss: 0.0389 - accuracy: 0.9897 - val_loss: 0.2267 - val_accuracy: 0.9375\n",
            "Epoch 12/20\n",
            "981/981 [==============================] - ETA: 0s - loss: 0.0497 - accuracy: 0.9866\n",
            "Epoch 12: val_loss did not improve from 0.14026\n",
            "981/981 [==============================] - 76s 77ms/step - loss: 0.0497 - accuracy: 0.9866 - val_loss: 0.1857 - val_accuracy: 0.9556\n",
            "Epoch 13/20\n",
            "981/981 [==============================] - ETA: 0s - loss: 0.0298 - accuracy: 0.9916\n",
            "Epoch 13: val_loss did not improve from 0.14026\n",
            "981/981 [==============================] - 77s 78ms/step - loss: 0.0298 - accuracy: 0.9916 - val_loss: 0.3808 - val_accuracy: 0.9231\n",
            "Epoch 14/20\n",
            "981/981 [==============================] - ETA: 0s - loss: 0.0364 - accuracy: 0.9897\n",
            "Epoch 14: val_loss improved from 0.14026 to 0.11591, saving model to Vanila.epoch14-loss0.12.hdf5\n",
            "981/981 [==============================] - 77s 79ms/step - loss: 0.0364 - accuracy: 0.9897 - val_loss: 0.1159 - val_accuracy: 0.9652\n",
            "Epoch 15/20\n",
            "981/981 [==============================] - ETA: 0s - loss: 0.0228 - accuracy: 0.9935\n",
            "Epoch 15: val_loss did not improve from 0.11591\n",
            "981/981 [==============================] - 77s 78ms/step - loss: 0.0228 - accuracy: 0.9935 - val_loss: 0.3178 - val_accuracy: 0.9359\n",
            "Epoch 16/20\n",
            "981/981 [==============================] - ETA: 0s - loss: 0.0241 - accuracy: 0.9939\n",
            "Epoch 16: val_loss did not improve from 0.11591\n",
            "981/981 [==============================] - 77s 79ms/step - loss: 0.0241 - accuracy: 0.9939 - val_loss: 0.1228 - val_accuracy: 0.9699\n",
            "Epoch 17/20\n",
            "981/981 [==============================] - ETA: 0s - loss: 0.0252 - accuracy: 0.9930\n",
            "Epoch 17: val_loss did not improve from 0.11591\n",
            "981/981 [==============================] - 76s 77ms/step - loss: 0.0252 - accuracy: 0.9930 - val_loss: 0.1788 - val_accuracy: 0.9612\n",
            "Epoch 18/20\n",
            "981/981 [==============================] - ETA: 0s - loss: 0.0164 - accuracy: 0.9952\n",
            "Epoch 18: val_loss did not improve from 0.11591\n",
            "981/981 [==============================] - 76s 78ms/step - loss: 0.0164 - accuracy: 0.9952 - val_loss: 0.2922 - val_accuracy: 0.9406\n",
            "Epoch 19/20\n",
            "981/981 [==============================] - ETA: 0s - loss: 0.0259 - accuracy: 0.9929\n",
            "Epoch 19: val_loss improved from 0.11591 to 0.08920, saving model to Vanila.epoch19-loss0.09.hdf5\n",
            "981/981 [==============================] - 78s 79ms/step - loss: 0.0259 - accuracy: 0.9929 - val_loss: 0.0892 - val_accuracy: 0.9773\n",
            "Epoch 20/20\n",
            "981/981 [==============================] - ETA: 0s - loss: 0.0254 - accuracy: 0.9935\n",
            "Epoch 20: val_loss did not improve from 0.08920\n",
            "981/981 [==============================] - 77s 78ms/step - loss: 0.0254 - accuracy: 0.9935 - val_loss: 0.0982 - val_accuracy: 0.9754\n",
            "7/7 [==============================] - 1s 26ms/step\n",
            "0.9402985074626866\n"
          ]
        },
        {
          "output_type": "stream",
          "name": "stderr",
          "text": [
            "WARNING:absl:Found untraced functions such as _jit_compiled_convolution_op, _jit_compiled_convolution_op, _jit_compiled_convolution_op, _jit_compiled_convolution_op, _jit_compiled_convolution_op while saving (showing 5 of 94). These functions will not be directly callable after loading.\n"
          ]
        }
      ],
      "source": [
        "#Model Structure\n",
        "model2 = tf.keras.applications.inception_v3.InceptionV3(\n",
        "    include_top = True,\n",
        "    weights = None,\n",
        "    input_tensor = None,\n",
        "    input_shape = None,\n",
        "    pooling = None,\n",
        "    classes = 43,\n",
        "    classifier_activation='softmax'\n",
        ")\n",
        "\n",
        "#Unfroze model\n",
        "for layer in model2.layers: \n",
        "  layer.trainable = True\n",
        "\n",
        "#Compilation\n",
        "model2.compile(optimizer='adam',\n",
        "              loss=tf.keras.losses.SparseCategoricalCrossentropy(from_logits=True),\n",
        "              metrics=['accuracy'])\n",
        "early_stopping = tf.keras.callbacks.EarlyStopping(monitor = 'loss', patience = 3)\n",
        "history = model2.fit(train_generator, validation_data = validation_generator, epochs = 20, callbacks = checkpoint)\n",
        "\n",
        "#Print Result\n",
        "probabilities = model2.predict(test_generator)\n",
        "predictions = [np.argmax(probas) for probas in probabilities]\n",
        "print(accuracy_score(true[\"ClassId\"], predictions))\n",
        "\n",
        "#Save model\n",
        "model2.save(\"/content/drive/MyDrive/Inception_V3_Candidate03\")\n",
        "\n"
      ]
    },
    {
      "cell_type": "code",
      "source": [
        "from google.colab import drive\n",
        "drive.mount('/content/drive')"
      ],
      "metadata": {
        "id": "9ESjCF1Fk5PE"
      },
      "execution_count": null,
      "outputs": []
    },
    {
      "cell_type": "markdown",
      "metadata": {
        "id": "Z5GviN-Sb5bu"
      },
      "source": [
        "# Augmentation"
      ]
    },
    {
      "cell_type": "code",
      "execution_count": null,
      "metadata": {
        "colab": {
          "base_uri": "https://localhost:8080/"
        },
        "id": "KrATjTTRZ-SN",
        "outputId": "494d399b-ad5d-4d61-e85c-98bf6a61906e"
      },
      "outputs": [
        {
          "output_type": "stream",
          "name": "stdout",
          "text": [
            "Epoch 1/20\n"
          ]
        },
        {
          "output_type": "stream",
          "name": "stderr",
          "text": [
            "WARNING:tensorflow:Using a while_loop for converting RngReadAndSkip\n",
            "WARNING:tensorflow:Using a while_loop for converting Bitcast\n",
            "WARNING:tensorflow:Using a while_loop for converting Bitcast\n",
            "WARNING:tensorflow:Using a while_loop for converting StatelessRandomUniformFullIntV2\n",
            "WARNING:tensorflow:Using a while_loop for converting StatelessRandomGetKeyCounter\n",
            "WARNING:tensorflow:Using a while_loop for converting StatelessRandomUniformV2\n",
            "WARNING:tensorflow:Using a while_loop for converting AdjustContrastv2\n",
            "WARNING:tensorflow:Using a while_loop for converting RngReadAndSkip\n",
            "WARNING:tensorflow:Using a while_loop for converting Bitcast\n",
            "WARNING:tensorflow:Using a while_loop for converting Bitcast\n",
            "WARNING:tensorflow:Using a while_loop for converting StatelessRandomUniformFullIntV2\n",
            "WARNING:tensorflow:Using a while_loop for converting StatelessRandomGetKeyCounter\n",
            "WARNING:tensorflow:Using a while_loop for converting StatelessRandomUniformV2\n",
            "WARNING:tensorflow:Using a while_loop for converting AdjustContrastv2\n"
          ]
        },
        {
          "output_type": "stream",
          "name": "stdout",
          "text": [
            "981/981 [==============================] - ETA: 0s - loss: 2.4753 - accuracy: 0.3218\n",
            "Epoch 1: val_loss improved from inf to 3632.91357, saving model to my_best_model.epoch01-loss3632.91.hdf5\n",
            "981/981 [==============================] - 226s 222ms/step - loss: 2.4753 - accuracy: 0.3218 - val_loss: 3632.9136 - val_accuracy: 0.0574\n",
            "Epoch 2/20\n",
            "981/981 [==============================] - ETA: 0s - loss: 2.3474 - accuracy: 0.3301\n",
            "Epoch 2: val_loss improved from 3632.91357 to 2.17789, saving model to my_best_model.epoch02-loss2.18.hdf5\n",
            "981/981 [==============================] - 217s 221ms/step - loss: 2.3474 - accuracy: 0.3301 - val_loss: 2.1779 - val_accuracy: 0.3516\n",
            "Epoch 3/20\n",
            "981/981 [==============================] - ETA: 0s - loss: 1.3458 - accuracy: 0.5449\n",
            "Epoch 3: val_loss improved from 2.17789 to 1.29496, saving model to my_best_model.epoch03-loss1.29.hdf5\n",
            "981/981 [==============================] - 217s 221ms/step - loss: 1.3458 - accuracy: 0.5449 - val_loss: 1.2950 - val_accuracy: 0.5745\n",
            "Epoch 4/20\n",
            "981/981 [==============================] - ETA: 0s - loss: 0.8043 - accuracy: 0.7295\n",
            "Epoch 4: val_loss improved from 1.29496 to 1.16043, saving model to my_best_model.epoch04-loss1.16.hdf5\n",
            "981/981 [==============================] - 255s 260ms/step - loss: 0.8043 - accuracy: 0.7295 - val_loss: 1.1604 - val_accuracy: 0.6701\n",
            "Epoch 5/20\n",
            "981/981 [==============================] - ETA: 0s - loss: 0.5187 - accuracy: 0.8290\n",
            "Epoch 5: val_loss improved from 1.16043 to 0.48892, saving model to my_best_model.epoch05-loss0.49.hdf5\n",
            "981/981 [==============================] - 216s 220ms/step - loss: 0.5187 - accuracy: 0.8290 - val_loss: 0.4889 - val_accuracy: 0.8457\n",
            "Epoch 6/20\n",
            "981/981 [==============================] - ETA: 0s - loss: 0.2927 - accuracy: 0.9040\n",
            "Epoch 6: val_loss did not improve from 0.48892\n",
            "981/981 [==============================] - 213s 218ms/step - loss: 0.2927 - accuracy: 0.9040 - val_loss: 0.6032 - val_accuracy: 0.8244\n",
            "Epoch 7/20\n",
            "981/981 [==============================] - ETA: 0s - loss: 0.3207 - accuracy: 0.9010\n",
            "Epoch 7: val_loss did not improve from 0.48892\n",
            "981/981 [==============================] - 212s 216ms/step - loss: 0.3207 - accuracy: 0.9010 - val_loss: 0.5364 - val_accuracy: 0.8303\n",
            "Epoch 8/20\n",
            "981/981 [==============================] - ETA: 0s - loss: 0.2344 - accuracy: 0.9293\n",
            "Epoch 8: val_loss improved from 0.48892 to 0.30266, saving model to my_best_model.epoch08-loss0.30.hdf5\n",
            "981/981 [==============================] - 213s 217ms/step - loss: 0.2344 - accuracy: 0.9293 - val_loss: 0.3027 - val_accuracy: 0.9064\n",
            "Epoch 9/20\n",
            "981/981 [==============================] - ETA: 0s - loss: 0.1405 - accuracy: 0.9528\n",
            "Epoch 9: val_loss improved from 0.30266 to 0.28953, saving model to my_best_model.epoch09-loss0.29.hdf5\n",
            "981/981 [==============================] - 212s 216ms/step - loss: 0.1405 - accuracy: 0.9528 - val_loss: 0.2895 - val_accuracy: 0.9151\n",
            "Epoch 10/20\n",
            "981/981 [==============================] - ETA: 0s - loss: 0.1840 - accuracy: 0.9428\n",
            "Epoch 10: val_loss did not improve from 0.28953\n",
            "981/981 [==============================] - 211s 214ms/step - loss: 0.1840 - accuracy: 0.9428 - val_loss: 0.2912 - val_accuracy: 0.9111\n",
            "Epoch 11/20\n",
            "981/981 [==============================] - ETA: 0s - loss: 0.1520 - accuracy: 0.9527\n",
            "Epoch 11: val_loss improved from 0.28953 to 0.17437, saving model to my_best_model.epoch11-loss0.17.hdf5\n",
            "981/981 [==============================] - 210s 214ms/step - loss: 0.1520 - accuracy: 0.9527 - val_loss: 0.1744 - val_accuracy: 0.9476\n",
            "Epoch 12/20\n",
            "981/981 [==============================] - ETA: 0s - loss: 0.1191 - accuracy: 0.9619\n",
            "Epoch 12: val_loss did not improve from 0.17437\n",
            "981/981 [==============================] - 208s 212ms/step - loss: 0.1191 - accuracy: 0.9619 - val_loss: 0.2995 - val_accuracy: 0.9259\n",
            "Epoch 13/20\n",
            "981/981 [==============================] - ETA: 0s - loss: 0.0911 - accuracy: 0.9703\n",
            "Epoch 13: val_loss did not improve from 0.17437\n",
            "981/981 [==============================] - 209s 213ms/step - loss: 0.0911 - accuracy: 0.9703 - val_loss: 0.2418 - val_accuracy: 0.9406\n",
            "Epoch 14/20\n",
            "981/981 [==============================] - ETA: 0s - loss: 0.0998 - accuracy: 0.9681\n",
            "Epoch 14: val_loss did not improve from 0.17437\n",
            "981/981 [==============================] - 210s 214ms/step - loss: 0.0998 - accuracy: 0.9681 - val_loss: 0.1985 - val_accuracy: 0.9365\n",
            "Epoch 15/20\n",
            "981/981 [==============================] - ETA: 0s - loss: 0.0821 - accuracy: 0.9721\n",
            "Epoch 15: val_loss did not improve from 0.17437\n",
            "981/981 [==============================] - 211s 215ms/step - loss: 0.0821 - accuracy: 0.9721 - val_loss: 0.2522 - val_accuracy: 0.9436\n",
            "Epoch 16/20\n",
            "981/981 [==============================] - ETA: 0s - loss: 0.0859 - accuracy: 0.9728\n",
            "Epoch 16: val_loss improved from 0.17437 to 0.15363, saving model to my_best_model.epoch16-loss0.15.hdf5\n",
            "981/981 [==============================] - 208s 212ms/step - loss: 0.0859 - accuracy: 0.9728 - val_loss: 0.1536 - val_accuracy: 0.9538\n",
            "Epoch 17/20\n",
            "981/981 [==============================] - ETA: 0s - loss: 0.0907 - accuracy: 0.9730\n",
            "Epoch 17: val_loss did not improve from 0.15363\n",
            "981/981 [==============================] - 210s 214ms/step - loss: 0.0907 - accuracy: 0.9730 - val_loss: 0.2682 - val_accuracy: 0.9230\n",
            "Epoch 18/20\n",
            "981/981 [==============================] - ETA: 0s - loss: 0.0663 - accuracy: 0.9779\n",
            "Epoch 18: val_loss did not improve from 0.15363\n",
            "981/981 [==============================] - 210s 214ms/step - loss: 0.0663 - accuracy: 0.9779 - val_loss: 0.4535 - val_accuracy: 0.8871\n",
            "Epoch 19/20\n",
            "981/981 [==============================] - ETA: 0s - loss: 0.0619 - accuracy: 0.9796\n",
            "Epoch 19: val_loss did not improve from 0.15363\n",
            "981/981 [==============================] - 210s 214ms/step - loss: 0.0619 - accuracy: 0.9796 - val_loss: 0.2804 - val_accuracy: 0.9146\n",
            "Epoch 20/20\n",
            "981/981 [==============================] - ETA: 0s - loss: 0.0641 - accuracy: 0.9793\n",
            "Epoch 20: val_loss did not improve from 0.15363\n",
            "981/981 [==============================] - 210s 214ms/step - loss: 0.0641 - accuracy: 0.9793 - val_loss: 0.2074 - val_accuracy: 0.9425\n",
            "7/7 [==============================] - 1s 33ms/step\n",
            "0.9303482587064676\n"
          ]
        },
        {
          "output_type": "stream",
          "name": "stderr",
          "text": [
            "WARNING:tensorflow:Using a while_loop for converting RngReadAndSkip\n",
            "WARNING:tensorflow:Using a while_loop for converting Bitcast\n",
            "WARNING:tensorflow:Using a while_loop for converting Bitcast\n",
            "WARNING:tensorflow:Using a while_loop for converting StatelessRandomUniformFullIntV2\n",
            "WARNING:tensorflow:Using a while_loop for converting StatelessRandomGetKeyCounter\n",
            "WARNING:tensorflow:Using a while_loop for converting StatelessRandomUniformV2\n",
            "WARNING:tensorflow:Using a while_loop for converting AdjustContrastv2\n",
            "WARNING:tensorflow:Using a while_loop for converting RngReadAndSkip\n",
            "WARNING:tensorflow:Using a while_loop for converting Bitcast\n",
            "WARNING:tensorflow:Using a while_loop for converting Bitcast\n",
            "WARNING:tensorflow:Using a while_loop for converting StatelessRandomUniformFullIntV2\n",
            "WARNING:tensorflow:Using a while_loop for converting StatelessRandomGetKeyCounter\n",
            "WARNING:tensorflow:Using a while_loop for converting StatelessRandomUniformV2\n",
            "WARNING:tensorflow:Using a while_loop for converting AdjustContrastv2\n",
            "WARNING:tensorflow:Using a while_loop for converting RngReadAndSkip\n",
            "WARNING:tensorflow:Using a while_loop for converting Bitcast\n",
            "WARNING:tensorflow:Using a while_loop for converting Bitcast\n",
            "WARNING:tensorflow:Using a while_loop for converting StatelessRandomUniformFullIntV2\n",
            "WARNING:tensorflow:Using a while_loop for converting StatelessRandomGetKeyCounter\n",
            "WARNING:tensorflow:Using a while_loop for converting StatelessRandomUniformV2\n",
            "WARNING:tensorflow:Using a while_loop for converting AdjustContrastv2\n",
            "WARNING:tensorflow:Using a while_loop for converting RngReadAndSkip\n",
            "WARNING:tensorflow:Using a while_loop for converting Bitcast\n",
            "WARNING:tensorflow:Using a while_loop for converting Bitcast\n",
            "WARNING:tensorflow:Using a while_loop for converting StatelessRandomUniformFullIntV2\n",
            "WARNING:tensorflow:Using a while_loop for converting StatelessRandomGetKeyCounter\n",
            "WARNING:tensorflow:Using a while_loop for converting StatelessRandomUniformV2\n",
            "WARNING:tensorflow:Using a while_loop for converting AdjustContrastv2\n",
            "WARNING:absl:Found untraced functions such as _jit_compiled_convolution_op, _jit_compiled_convolution_op, _jit_compiled_convolution_op, _jit_compiled_convolution_op, _jit_compiled_convolution_op while saving (showing 5 of 94). These functions will not be directly callable after loading.\n"
          ]
        }
      ],
      "source": [
        "data_augmentation = keras.Sequential(\n",
        "    [\n",
        "        keras.layers.RandomFlip(\"horizontal\"),\n",
        "        keras.layers.RandomRotation(0.1, fill_mode = 'reflect'),\n",
        "        keras.layers.RandomContrast(0.1)\n",
        "    ]\n",
        ")\n",
        "\n",
        "model3 = tf.keras.applications.inception_v3.InceptionV3(\n",
        "    include_top=True,\n",
        "    weights=None,\n",
        "    input_tensor=None,\n",
        "    input_shape=(100,100,3),\n",
        "    pooling=None,\n",
        "    classes=43,\n",
        "    classifier_activation = 'softmax'\n",
        "    )\n",
        "\n",
        "inputs = tf.keras.Input(shape=(100,100,3))\n",
        "x = data_augmentation(inputs)\n",
        "outputs = model3(x)\n",
        "model3 = keras.Model(inputs, outputs)\n",
        "\n",
        "model3.trainable = True\n",
        "for layer in model3.layers:\n",
        "  layer.trainable=True\n",
        "\n",
        "# Compile model\n",
        "model3.compile(optimizer='adam',\n",
        "              loss=tf.keras.losses.SparseCategoricalCrossentropy(from_logits=True),\n",
        "              metrics=['accuracy'])\n",
        "early_stopping = tf.keras.callbacks.EarlyStopping(monitor='loss', patience = 3)\n",
        "history = model3.fit(train_generator, validation_data = validation_generator, epochs = 20, callbacks = checkpoint)\n",
        "\n",
        "#Print Result\n",
        "probabilities = model3.predict(test_generator)\n",
        "predictions = [np.argmax(probas) for probas in probabilities]\n",
        "print(accuracy_score(true[\"ClassId\"], predictions))\n",
        "\n",
        "#Save model\n",
        "model3.save(\"/content/drive/MyDrive/InceptionV3_Augmentation_Candidate1\")\n"
      ]
    },
    {
      "cell_type": "markdown",
      "metadata": {
        "id": "hmDseLwG5LtU"
      },
      "source": [
        "# Producing Imagies\n"
      ]
    },
    {
      "cell_type": "code",
      "execution_count": null,
      "metadata": {
        "colab": {
          "base_uri": "https://localhost:8080/",
          "height": 766
        },
        "id": "J-APGlw_e14Z",
        "outputId": "19c1dd20-833e-4cbe-c426-61f454e1f3be"
      },
      "outputs": [
        {
          "output_type": "execute_result",
          "data": {
            "text/plain": [
              "<sklearn.metrics._plot.confusion_matrix.ConfusionMatrixDisplay at 0x7f26fda8c1d0>"
            ]
          },
          "metadata": {},
          "execution_count": 35
        },
        {
          "output_type": "display_data",
          "data": {
            "text/plain": [
              "<Figure size 936x936 with 2 Axes>"
            ],
            "image/png": "[encoded data removed]"
          },
          "metadata": {
            "needs_background": "light"
          }
        }
      ],
      "source": [
        "allclass = true[\"ClassId\"].unique()\n",
        "allclass.sort()\n",
        "\n",
        "class_names = allclass\n",
        "\n",
        "from sklearn.metrics import plot_confusion_matrix\n",
        "from sklearn.metrics import confusion_matrix, ConfusionMatrixDisplay\n",
        "cm = confusion_matrix(true[\"ClassId\"], predictions)\n",
        "cmd = ConfusionMatrixDisplay(cm, display_labels = class_names)\n",
        "fig, ax = plt.subplots(figsize=(13,13)) # For changing the size of the plot\n",
        "cmd.plot(ax=ax, cmap=\"Blues\", values_format = '.5g')"
      ]
    },
    {
      "cell_type": "code",
      "source": [
        "import seaborn as sns\n",
        "\n",
        "#sns.histplot(data = true, x = \"ClassId\")\n",
        "\n",
        "allclass = true[\"ClassId\"].unique()\n",
        "\n",
        "allclass.sort()\n",
        "print(allclass)"
      ],
      "metadata": {
        "colab": {
          "base_uri": "https://localhost:8080/"
        },
        "id": "UTBYKLtKhMDk",
        "outputId": "4a3afebc-4728-418d-8fb3-e9fd25f64bf9"
      },
      "execution_count": null,
      "outputs": [
        {
          "output_type": "stream",
          "name": "stdout",
          "text": [
            "[ 1  2  3  4  5  6  7  8  9 10 11 12 13 14 15 16 17 18 20 21 22 23 24 25\n",
            " 26 27 28 29 30 31 32 33 34 35 36 38 40 41]\n"
          ]
        }
      ]
    },
    {
      "cell_type": "code",
      "source": [
        "true[\"ClassId\"]"
      ],
      "metadata": {
        "colab": {
          "base_uri": "https://localhost:8080/"
        },
        "id": "q0TUylE0nrVY",
        "outputId": "297aacc0-be80-4f28-b7ea-81d75f91b9cf"
      },
      "execution_count": 12,
      "outputs": [
        {
          "output_type": "execute_result",
          "data": {
            "text/plain": [
              "0      16\n",
              "1       1\n",
              "2      38\n",
              "3      33\n",
              "4      11\n",
              "       ..\n",
              "196     8\n",
              "197    38\n",
              "198    18\n",
              "199    28\n",
              "200    17\n",
              "Name: ClassId, Length: 201, dtype: int64"
            ]
          },
          "metadata": {},
          "execution_count": 12
        }
      ]
    },
    {
      "cell_type": "code",
      "source": [
        "import pandas as pd\n",
        "result = pd.DataFrame()\n",
        "\n",
        "allclass = true[\"ClassId\"].unique()\n",
        "\n",
        "allclass.sort()\n",
        "\n",
        "result[\"Real label\"] = true[\"ClassId\"]\n",
        "result[\"Predicted\"] = predictions\n",
        "\n"
      ],
      "metadata": {
        "id": "3C8MqjF2k7vh",
        "colab": {
          "base_uri": "https://localhost:8080/",
          "height": 321
        },
        "outputId": "5a7bd172-53b1-43f4-88db-d5719e8eeb3c"
      },
      "execution_count": 16,
      "outputs": [
        {
          "output_type": "error",
          "ename": "AttributeError",
          "evalue": "ignored",
          "traceback": [
            "\u001b[0;31m---------------------------------------------------------------------------\u001b[0m",
            "\u001b[0;31mAttributeError\u001b[0m                            Traceback (most recent call last)",
            "\u001b[0;32m<ipython-input-16-ca6ee5390724>\u001b[0m in \u001b[0;36m<module>\u001b[0;34m\u001b[0m\n\u001b[1;32m      9\u001b[0m \u001b[0mresult\u001b[0m\u001b[0;34m[\u001b[0m\u001b[0;34m\"Predicted\"\u001b[0m\u001b[0;34m]\u001b[0m \u001b[0;34m=\u001b[0m \u001b[0mpredictions\u001b[0m\u001b[0;34m\u001b[0m\u001b[0;34m\u001b[0m\u001b[0m\n\u001b[1;32m     10\u001b[0m \u001b[0;34m\u001b[0m\u001b[0m\n\u001b[0;32m---> 11\u001b[0;31m \u001b[0mresult\u001b[0m\u001b[0;34m[\u001b[0m\u001b[0;34m\"Real label\"\u001b[0m\u001b[0;34m]\u001b[0m\u001b[0;34m.\u001b[0m\u001b[0mcounts_values\u001b[0m\u001b[0;34m(\u001b[0m\u001b[0;34m)\u001b[0m\u001b[0;34m\u001b[0m\u001b[0;34m\u001b[0m\u001b[0m\n\u001b[0m",
            "\u001b[0;32m/usr/local/lib/python3.7/dist-packages/pandas/core/generic.py\u001b[0m in \u001b[0;36m__getattr__\u001b[0;34m(self, name)\u001b[0m\n\u001b[1;32m   5485\u001b[0m         ):\n\u001b[1;32m   5486\u001b[0m             \u001b[0;32mreturn\u001b[0m \u001b[0mself\u001b[0m\u001b[0;34m[\u001b[0m\u001b[0mname\u001b[0m\u001b[0;34m]\u001b[0m\u001b[0;34m\u001b[0m\u001b[0;34m\u001b[0m\u001b[0m\n\u001b[0;32m-> 5487\u001b[0;31m         \u001b[0;32mreturn\u001b[0m \u001b[0mobject\u001b[0m\u001b[0;34m.\u001b[0m\u001b[0m__getattribute__\u001b[0m\u001b[0;34m(\u001b[0m\u001b[0mself\u001b[0m\u001b[0;34m,\u001b[0m \u001b[0mname\u001b[0m\u001b[0;34m)\u001b[0m\u001b[0;34m\u001b[0m\u001b[0;34m\u001b[0m\u001b[0m\n\u001b[0m\u001b[1;32m   5488\u001b[0m \u001b[0;34m\u001b[0m\u001b[0m\n\u001b[1;32m   5489\u001b[0m     \u001b[0;32mdef\u001b[0m \u001b[0m__setattr__\u001b[0m\u001b[0;34m(\u001b[0m\u001b[0mself\u001b[0m\u001b[0;34m,\u001b[0m \u001b[0mname\u001b[0m\u001b[0;34m:\u001b[0m \u001b[0mstr\u001b[0m\u001b[0;34m,\u001b[0m \u001b[0mvalue\u001b[0m\u001b[0;34m)\u001b[0m \u001b[0;34m->\u001b[0m \u001b[0;32mNone\u001b[0m\u001b[0;34m:\u001b[0m\u001b[0;34m\u001b[0m\u001b[0;34m\u001b[0m\u001b[0m\n",
            "\u001b[0;31mAttributeError\u001b[0m: 'Series' object has no attribute 'counts_values'"
          ]
        }
      ]
    },
    {
      "cell_type": "code",
      "source": [
        "k = result[\"Real label\"].value_counts()\n"
      ],
      "metadata": {
        "colab": {
          "base_uri": "https://localhost:8080/"
        },
        "id": "C-7sIPFZpXpe",
        "outputId": "eab0a271-a205-4641-c102-ea09e95e4aae"
      },
      "execution_count": 25,
      "outputs": [
        {
          "output_type": "execute_result",
          "data": {
            "text/plain": [
              "25    14\n",
              "10    12\n",
              "1     11\n",
              "3     10\n",
              "13    10\n",
              "9     10\n",
              "38     9\n",
              "4      9\n",
              "11     8\n",
              "18     8\n",
              "7      8\n",
              "2      8\n",
              "33     7\n",
              "12     7\n",
              "17     7\n",
              "8      6\n",
              "16     5\n",
              "5      5\n",
              "14     4\n",
              "35     4\n",
              "30     4\n",
              "21     3\n",
              "6      3\n",
              "26     3\n",
              "29     3\n",
              "27     2\n",
              "41     2\n",
              "40     2\n",
              "36     2\n",
              "28     2\n",
              "20     2\n",
              "15     2\n",
              "24     2\n",
              "23     2\n",
              "34     2\n",
              "22     1\n",
              "32     1\n",
              "31     1\n",
              "Name: Real label, dtype: int64"
            ]
          },
          "metadata": {},
          "execution_count": 25
        }
      ]
    },
    {
      "cell_type": "code",
      "source": [
        "from google.colab import files\n",
        "\n",
        "\n",
        "result.to_csv('output.csv', encoding = 'utf-8-sig') \n",
        "files.download('output.csv')\n"
      ],
      "metadata": {
        "colab": {
          "base_uri": "https://localhost:8080/",
          "height": 17
        },
        "id": "almiA9SsmIpn",
        "outputId": "bfd52a29-28b7-4aa7-e763-3e034f1f58b6"
      },
      "execution_count": 14,
      "outputs": [
        {
          "output_type": "display_data",
          "data": {
            "text/plain": [
              "<IPython.core.display.Javascript object>"
            ],
            "application/javascript": [
              "\n",
              "    async function download(id, filename, size) {\n",
              "      if (!google.colab.kernel.accessAllowed) {\n",
              "        return;\n",
              "      }\n",
              "      const div = document.createElement('div');\n",
              "      const label = document.createElement('label');\n",
              "      label.textContent = `Downloading \"${filename}\": `;\n",
              "      div.appendChild(label);\n",
              "      const progress = document.createElement('progress');\n",
              "      progress.max = size;\n",
              "      div.appendChild(progress);\n",
              "      document.body.appendChild(div);\n",
              "\n",
              "      const buffers = [];\n",
              "      let downloaded = 0;\n",
              "\n",
              "      const channel = await google.colab.kernel.comms.open(id);\n",
              "      // Send a message to notify the kernel that we're ready.\n",
              "      channel.send({})\n",
              "\n",
              "      for await (const message of channel.messages) {\n",
              "        // Send a message to notify the kernel that we're ready.\n",
              "        channel.send({})\n",
              "        if (message.buffers) {\n",
              "          for (const buffer of message.buffers) {\n",
              "            buffers.push(buffer);\n",
              "            downloaded += buffer.byteLength;\n",
              "            progress.value = downloaded;\n",
              "          }\n",
              "        }\n",
              "      }\n",
              "      const blob = new Blob(buffers, {type: 'application/binary'});\n",
              "      const a = document.createElement('a');\n",
              "      a.href = window.URL.createObjectURL(blob);\n",
              "      a.download = filename;\n",
              "      div.appendChild(a);\n",
              "      a.click();\n",
              "      div.remove();\n",
              "    }\n",
              "  "
            ]
          },
          "metadata": {}
        },
        {
          "output_type": "display_data",
          "data": {
            "text/plain": [
              "<IPython.core.display.Javascript object>"
            ],
            "application/javascript": [
              "download(\"download_e48ee39d-0dc3-4cbd-b258-a7f0da9a3632\", \"output.csv\", 1785)"
            ]
          },
          "metadata": {}
        }
      ]
    },
    {
      "cell_type": "code",
      "source": [
        "len(predictions3)"
      ],
      "metadata": {
        "colab": {
          "base_uri": "https://localhost:8080/"
        },
        "id": "w43lzDln0C0q",
        "outputId": "ca78346e-f499-41b3-8b47-0d19e89341c7"
      },
      "execution_count": 33,
      "outputs": [
        {
          "output_type": "execute_result",
          "data": {
            "text/plain": [
              "12630"
            ]
          },
          "metadata": {},
          "execution_count": 33
        }
      ]
    },
    {
      "cell_type": "markdown",
      "source": [
        "# Loading the best model"
      ],
      "metadata": {
        "id": "jxKJ8Cv0pQYX"
      }
    },
    {
      "cell_type": "code",
      "source": [
        "from keras.models import load_model"
      ],
      "metadata": {
        "id": "lSdJQhivpwIK"
      },
      "execution_count": 7,
      "outputs": []
    },
    {
      "cell_type": "code",
      "source": [
        "\n",
        "\n",
        "model = load_model(\"/content/my_best_model.epoch18-loss0.07_0.98.hdf5\")\n",
        "probabilities = model.predict(test_generator)\n",
        "predictions = [np.argmax(probas) for probas in probabilities]\n",
        "print(accuracy_score(true[\"ClassId\"], predictions))"
      ],
      "metadata": {
        "colab": {
          "base_uri": "https://localhost:8080/"
        },
        "id": "jppkWSlypP2h",
        "outputId": "446640b8-e73b-4270-fb26-005c760a3646"
      },
      "execution_count": 34,
      "outputs": [
        {
          "output_type": "stream",
          "name": "stdout",
          "text": [
            "7/7 [==============================] - 1s 33ms/step\n",
            "0.9800995024875622\n"
          ]
        }
      ]
    },
    {
      "cell_type": "code",
      "source": [
        "from sklearn.metrics import precision_score\n",
        "from sklearn.metrics import recall_score"
      ],
      "metadata": {
        "id": "ydKqmJMH1im5"
      },
      "execution_count": 38,
      "outputs": []
    },
    {
      "cell_type": "code",
      "source": [
        "print(\"Precision Score : \", precision_score(true[\"ClassId\"], predictions, \n",
        "                                           pos_label='positive',\n",
        "                                           average='micro'))\n",
        "\n",
        "print(\"Recall Score : \", recall_score(true[\"ClassId\"], predictions, \n",
        "                                           pos_label='positive',\n",
        "                                           average='micro'))"
      ],
      "metadata": {
        "colab": {
          "base_uri": "https://localhost:8080/"
        },
        "id": "AvwdEmnX1HPs",
        "outputId": "bcd0a312-7fae-41bd-c735-6cb7234ba351"
      },
      "execution_count": 47,
      "outputs": [
        {
          "output_type": "stream",
          "name": "stdout",
          "text": [
            "Precision Score :  0.9800995024875622\n",
            "Recall Score :  0.9800995024875622\n"
          ]
        },
        {
          "output_type": "stream",
          "name": "stderr",
          "text": [
            "/usr/local/lib/python3.7/dist-packages/sklearn/metrics/_classification.py:1375: UserWarning: Note that pos_label (set to 'positive') is ignored when average != 'binary' (got 'micro'). You may use labels=[pos_label] to specify a single positive class.\n",
            "  UserWarning,\n",
            "/usr/local/lib/python3.7/dist-packages/sklearn/metrics/_classification.py:1375: UserWarning: Note that pos_label (set to 'positive') is ignored when average != 'binary' (got 'micro'). You may use labels=[pos_label] to specify a single positive class.\n",
            "  UserWarning,\n"
          ]
        }
      ]
    },
    {
      "cell_type": "code",
      "source": [
        "p = precision_score(true[\"ClassId\"], predictions, \n",
        "                                           pos_label='positive',\n",
        "                                           average ='micro')\n",
        "\n",
        "\n",
        "r = recall_score(true[\"ClassId\"], predictions, \n",
        "                                           pos_label='positive',\n",
        "                                           average='micro')"
      ],
      "metadata": {
        "colab": {
          "base_uri": "https://localhost:8080/"
        },
        "id": "jQ2-7s-R13Iu",
        "outputId": "259ad139-c1db-459f-a26b-268c5031f710"
      },
      "execution_count": 41,
      "outputs": [
        {
          "output_type": "stream",
          "name": "stderr",
          "text": [
            "/usr/local/lib/python3.7/dist-packages/sklearn/metrics/_classification.py:1375: UserWarning: Note that pos_label (set to 'positive') is ignored when average != 'binary' (got 'micro'). You may use labels=[pos_label] to specify a single positive class.\n",
            "  UserWarning,\n",
            "/usr/local/lib/python3.7/dist-packages/sklearn/metrics/_classification.py:1375: UserWarning: Note that pos_label (set to 'positive') is ignored when average != 'binary' (got 'micro'). You may use labels=[pos_label] to specify a single positive class.\n",
            "  UserWarning,\n"
          ]
        }
      ]
    },
    {
      "cell_type": "code",
      "source": [
        "k = (2*p*r) / (p+r)\n",
        "k\n"
      ],
      "metadata": {
        "colab": {
          "base_uri": "https://localhost:8080/"
        },
        "id": "GyZxu0VK2gye",
        "outputId": "0c3a9be6-adf8-4d74-c566-8b3120713403"
      },
      "execution_count": 46,
      "outputs": [
        {
          "output_type": "execute_result",
          "data": {
            "text/plain": [
              "0.9800995024875622"
            ]
          },
          "metadata": {},
          "execution_count": 46
        }
      ]
    },
    {
      "cell_type": "markdown",
      "source": [
        "# Holdout Set\n"
      ],
      "metadata": {
        "id": "lFm6w8WJxsgh"
      }
    },
    {
      "cell_type": "code",
      "source": [
        "from tensorflow.keras.preprocessing import image_dataset_from_directory\n",
        "test_dir = '/content/'\n",
        "\n",
        "REALtest_datagen = ImageDataGenerator(rescale=1./255)\n",
        "REALtest_generator = REALtest_datagen.flow_from_directory(\n",
        "        test_dir,\n",
        "        classes = ['test'],\n",
        "        target_size=image_size,\n",
        "        class_mode='sparse',\n",
        "        shuffle=False)"
      ],
      "metadata": {
        "id": "5tRl1GlWp0AY",
        "colab": {
          "base_uri": "https://localhost:8080/"
        },
        "outputId": "8d2ba9b5-93d5-4c2a-d8e4-91e372e20950"
      },
      "execution_count": 26,
      "outputs": [
        {
          "output_type": "stream",
          "name": "stdout",
          "text": [
            "Found 12630 images belonging to 1 classes.\n"
          ]
        }
      ]
    },
    {
      "cell_type": "code",
      "source": [
        "probabilities2 = model.predict(REALtest_generator)\n",
        "predictions2 = [np.argmax(probas) for probas in probabilities2]\n",
        "\n",
        "predictions2\n",
        "\n",
        "predictions3 = result = pd.DataFrame()\n",
        "predictions3[\"First\"] = predictions2 "
      ],
      "metadata": {
        "colab": {
          "base_uri": "https://localhost:8080/"
        },
        "id": "FYdJxDIzxvN8",
        "outputId": "cacc7b38-38db-4e5b-88a9-115da7dd7346"
      },
      "execution_count": 31,
      "outputs": [
        {
          "output_type": "stream",
          "name": "stdout",
          "text": [
            "395/395 [==============================] - 11s 28ms/step\n"
          ]
        }
      ]
    },
    {
      "cell_type": "code",
      "source": [
        "predictions3.to_csv('team6-module5-predictions.csv', index=False)"
      ],
      "metadata": {
        "id": "tLJ4vq16yxR2"
      },
      "execution_count": 32,
      "outputs": []
    }
  ],
  "metadata": {
    "accelerator": "GPU",
    "colab": {
      "provenance": [],
      "include_colab_link": true
    },
    "gpuClass": "standard",
    "kernelspec": {
      "display_name": "Python 3",
      "name": "python3"
    }
  },
  "nbformat": 4,
  "nbformat_minor": 0
}